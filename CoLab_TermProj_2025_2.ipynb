{
 "cells": [
  {
   "cell_type": "markdown",
   "metadata": {
    "id": "_SmTogjeMD47"
   },
   "source": [
    "# 생물정보학 및 실습 1 - Term Project용 Mission 2 환경 셋업"
   ]
  },
  {
   "cell_type": "markdown",
   "metadata": {
    "id": "o7NwoWdnMuHS"
   },
   "source": [
    "```\n",
    "생물정보학 및 실습 1\n",
    "서울대학교 생물정보학전공/생명과학부 2025년 1학기\n",
    "\n",
    "이 노트북은 Creative Commons BY-SA 조건으로 재사용 가능합니다.\n",
    "장혜식 <hyeshik@snu.ac.kr>, 서울대학교 생명과학부\n",
    "```\n",
    "\n",
    "이 노트북은 Google Colab을 이용해서 Term Project를 할 수 있도록 환경을 준비해 줍니다. 터미널 사용이 원활하지 않은 상태이고, 데이터를 오랫동안 보관하기 어렵기 때문에 되도록 개인용 컴퓨터에서 [Anaconda](https://www.anaconda.com/)나 [JupyterLab](https://jupyterlab.readthedocs.io/en/stable/) 등을 설치하고 사용하시는 것이 편하지만, 개인용 컴퓨터 사양이 부족한 경우에는 Google CoLab을 사용할 수도 있습니다. 개인용 컴퓨터를 쓸 때는 Windows에서는 [WSL2](https://docs.microsoft.com/en-us/windows/wsl/install-win10)를 쓰시면 리눅스 커맨드라인 환경을 쓸 수 있습니다. Google Colab은 창을 닫은 후 90분 후, 또는 창을 처음 열고 12시간 후에 환경을 닫아버리기 때문에 매번 실습할 때마다 새로 셋업이 필요합니다. `Runtime->Run All`을 실행해서 전체를 한 번 실행하시면 준비됩니다. 모든 것이 잘 안 되고 뭔가 꼬인 느낌이 강하게 들 때는 `Runtime->Factory reset runtime`을 누르고 새로 시작하시면 될 수도 있습니다.\n"
   ]
  },
  {
   "cell_type": "markdown",
   "metadata": {
    "id": "O4ofnSipMuHa"
   },
   "source": [
    "## Google Drive 마운트\n",
    "\n",
    "데이터 파일들을 불러오고 저장하기 위해서 Google Drive를 연결합니다. 화면에 나오는 주소를 눌러서 인증하고 인증 코드를 그 아래에 입력하세요. 그러면 `/contents/drive/MyDrive`에서 자신의 Drive 최상단 폴더가 보입니다. Google CoLab에서 접속하지 않고, 본인 컴퓨터 또는 연구실 워크스테이션 등 다른 컴퓨터를 쓰시는 경우에는 저장공간이 충분하므로 이 부분은 생략하고 지나갑니다."
   ]
  },
  {
   "cell_type": "code",
   "execution_count": null,
   "metadata": {
    "id": "2kWbS8JWMuHa"
   },
   "outputs": [],
   "source": [
    "from google.colab import drive\n",
    "drive.mount('/content/drive')"
   ]
  },
  {
   "cell_type": "markdown",
   "metadata": {
    "id": "xQZGShwEMuHa"
   },
   "source": [
    "## 실습용 Bioconda 환경 설치하기\n",
    "Google CoLab에서 접속하지 않고, 본인 컴퓨터 또는 연구실 워크스테이션 등 다른 컴퓨터를 쓰시는 경우에는 따로 실습용 [Bioconda](https://bioconda.github.io/) 환경을 구축해서 이 노트북을 그 환경 안에서 띄우시면 됩니다.\n",
    "\n",
    "CoLab을 쓰시는 분들은 다음에 따라서 실습용 프로그램들을 쉽게 설치할 수 있도록 [Bioconda](https://bioconda.github.io/) 환경을 만듭니다. 실행하고 진행상황을 관찰하다가 에러로 보이는 것이 있으면 잘 읽어보고 해결합니다.\n",
    "\n",
    "파이썬 모듈들은 Colab쪽의 파이썬 인터프리터를 바꿀 수 없기 때문에 Conda에 설치하더라도 사용하기 어렵습니다. 파이썬 모듈은 `pip` 명령어로 설치하시면 Colab에서 불러와서 사용할 수 있습니다.\n",
    "\n",
    "환경 초기화에 관련된 스크립트는 [GitHub 프로젝트](https://github.com/hyeshik/colab-biolab)에 있습니다."
   ]
  },
  {
   "cell_type": "code",
   "execution_count": null,
   "metadata": {
    "id": "_i5ZwVHUMuHb"
   },
   "outputs": [],
   "source": [
    "!git clone https://github.com/hyeshik/colab-biolab.git\n",
    "!cd colab-biolab && bash tools/setup.sh\n",
    "exec(open('colab-biolab/tools/activate_conda.py').read())"
   ]
  },
  {
   "cell_type": "markdown",
   "metadata": {
    "id": "3Sabp7OAMuHb"
   },
   "source": [
    "설정이 끝났으면, 이제 콘솔을 열어서 터미널로 접속할 수 있는 통로를 열어줍니다."
   ]
  },
  {
   "cell_type": "markdown",
   "metadata": {
    "id": "z6RiPiSRMuHb"
   },
   "source": [
    "## 시퀀싱 데이터 다운로드\n",
    "***첫 실습 시간에 데이터 복사를 마쳤으면 이 부분은 생략하고 지나갑니다.***\n",
    "\n",
    "이제 실습 수업에서 필요한 시퀀싱 데이터를 다운로드 받아서 설치합시다. 드라이브 공간만 충분하면 데이터는 계속 저장돼 있기 때문에 학기 전체를 통해서 딱 한 번만 하시면 됩니다. Colab에서는 작업용 데이터를 Google Drive 폴더 아래의 `binfo-datapack1`에 저장합니다. 실습용 데이터는 `/content/drive/MyDrive/binfo1-datapack1`에 풀리게 됩니다.\n",
    "\n",
    "### (Option 1) Google CoLab에서 접속한 경우\n",
    "1. [Google Drive 공유폴더](https://drive.google.com/drive/folders/1QBJednh-C7A17PFOlpZHBKyDmBvd6klh?usp=sharing)에 접속합니다.\n",
    "1. 중간 제목줄의 \"binfo1-datapack1 ▾\"에서 ▾을 누릅니다.\n",
    "1. Add shortcut to Drive를 누릅니다.\n",
    "1. My Drive를 선택해서 ADD SHORTCUT 버튼을 누릅니다.\n",
    "1. 다음 cell을 실행해서 링크가 제대로 들어왔는지 확인합니다. (바로 확인되지 않으면 3–5분 정도 기다렸다가 하면 됩니다.)\n",
    "1. 제대로 확인되면 다음으로 넘어갑니다.\n"
   ]
  },
  {
   "cell_type": "code",
   "execution_count": null,
   "metadata": {
    "id": "D24wKYriG8tI"
   },
   "outputs": [],
   "source": [
    "!ls -al /content/drive/MyDrive/binfo1-datapack1/"
   ]
  },
  {
   "cell_type": "markdown",
   "metadata": {
    "id": "OZ0KkKrmG-M4"
   },
   "source": [
    "### (Option 2) CoLab외의 다른 환경에서 접속한 경우\n",
    "본인 컴퓨터나 연구실 워크스테이션 등에서 작업하는 경우에는 다음 명령어로 다운로드 받으시면 됩니다. 첫 번째에는 wget이 접속오류를 내는 경우가 많으니, 접속에러가 발생하면 다시 한 번 실행해 보세요. `/content/drive/Mydrive` 부분은 원하는 저장 경로로 바꿔서 지정하시면 됩니다."
   ]
  },
  {
   "cell_type": "code",
   "execution_count": null,
   "metadata": {
    "id": "LnLWxOljMuHb"
   },
   "outputs": [],
   "source": [
    "!wget -O - --no-check-certificate https://hyeshik.qbio.io/binfo/binfo1-datapack1.tar | tar -C /content/drive/MyDrive -xf -"
   ]
  },
  {
   "cell_type": "markdown",
   "metadata": {
    "id": "jfQRBt3eMuHc"
   },
   "source": [
    "그리고, GENCODE Annotation 데이터도 미리 받아서 저장해 둡니다. 에러가 나면 다시 한 번 실행해 봅니다."
   ]
  },
  {
   "cell_type": "code",
   "execution_count": null,
   "metadata": {
    "id": "o3vbErniMuHc"
   },
   "outputs": [],
   "source": [
    "!wget --no-check-certificate -O /content/drive/MyDrive/binfo1-datapack1/gencode.gtf.gz http://ftp.ebi.ac.uk/pub/databases/gencode/Gencode_mouse/release_M27/gencode.vM27.annotation.gtf.gz"
   ]
  },
  {
   "cell_type": "markdown",
   "metadata": {
    "id": "cEsuYjeoMuHc"
   },
   "source": [
    "다루기 쉽도록 Annotation 압축을 풉니다."
   ]
  },
  {
   "cell_type": "code",
   "execution_count": null,
   "metadata": {
    "id": "47_i6FbYMuHc"
   },
   "outputs": [],
   "source": [
    "!gunzip /content/drive/MyDrive/binfo1-datapack1/gencode.gtf.gz"
   ]
  },
  {
   "cell_type": "markdown",
   "metadata": {
    "id": "LRmsio_KMuHc"
   },
   "source": [
    "### 파일 체크섬 확인\n",
    "\n",
    "***첫 실습 시간에 데이터 복사를 마쳤으면 이 부분은 생략하고 지나갑니다.***\n",
    "\n",
    "받은 데이터의 MD5 체크섬을 확인합니다. 한참 걸립니다. 각 파일들의 원래 체크섬은 다음과 같습니다. 한 번 비교해 보세요.\n",
    "\n",
    "```\n",
    "140aaf30bcb9276cc716f8699f04ddd6  CLIP-35L33G.bam\n",
    "f1b3336ed7e2f97d562dcc71641251bd  CLIP-35L33G.bam.bai\n",
    "328883a73d507eafbf5b60bd6b906201  RNA-control.bam\n",
    "02073818e2f398a73c3b76e5169de1ca  RNA-control.bam.bai\n",
    "b09550d09d6c2a4ce27f0226f426fdb1  RNA-siLin28a.bam\n",
    "fef112c727244060ea62d3f2564a07f6  RNA-siLin28a.bam.bai\n",
    "28bbd0c47d725669340c784f1b772c01  RNA-siLuc.bam\n",
    "43590fdc4d81905c0432e0d1cb8cfd5b  RNA-siLuc.bam.bai\n",
    "5c08a9297307bc83259e658c4474f0cc  RPF-siLin28a.bam\n",
    "a1bb3e29be412dfd7fd8d16b1b1acc4c  RPF-siLin28a.bam.bai\n",
    "f2eebf50943024d0116c9cd3e744c707  RPF-siLuc.bam\n",
    "dc24f69e8f571fc8be30f28ce5b84fcd  RPF-siLuc.bam.bai\n",
    "```"
   ]
  },
  {
   "cell_type": "code",
   "execution_count": null,
   "metadata": {
    "id": "g8lC_YJRBCPf"
   },
   "outputs": [],
   "source": [
    "!md5sum drive/MyDrive/binfo1-datapack1/*"
   ]
  },
  {
   "cell_type": "code",
   "execution_count": null,
   "metadata": {
    "id": "PVXzIs5FE3Q4"
   },
   "outputs": [],
   "source": [
    "!ls -al drive/MyDrive/binfo*"
   ]
  },
  {
   "cell_type": "markdown",
   "metadata": {
    "id": "mI3qWMY-KHdC"
   },
   "source": [
    "# 파일 복사하기\n",
    "**첫 시간에 파일을 복사해 두었으면 이 부분은 생략하고 다음으로 넘어갑니다.**\n",
    "\n",
    "공유한 폴더를 나의 작업 폴더로 복사합니다."
   ]
  },
  {
   "cell_type": "code",
   "execution_count": null,
   "metadata": {
    "id": "vkK90WhtKWF7"
   },
   "outputs": [],
   "source": [
    "!mkdir -p /content/drive/MyDrive/binfo1-work\n",
    "%cd /content/drive/MyDrive/binfo1-work\n",
    "!cp -f /content/drive/MyDrive/binfo1-datapack1/*.* /content/drive/MyDrive/binfo1-work/"
   ]
  },
  {
   "cell_type": "markdown",
   "metadata": {
    "id": "WnmAcefjKi2G"
   },
   "source": [
    "# 프로그램 설치\n",
    "\n",
    "**첫 실습 시간에 데이터 복사를 마쳤으면 여기부터 시작합니다.**\n",
    "\n",
    "데이터 준비가 끝났으면, 이제 이번 시간 실습에 필요한 프로그램들 몇 가지를 추가로 설치합니다."
   ]
  },
  {
   "cell_type": "code",
   "execution_count": 1,
   "metadata": {
    "id": "neteyWsWEKBy"
   },
   "outputs": [
    {
     "name": "stdout",
     "output_type": "stream",
     "text": [
      "Retrieving notices: done\n",
      "Channels:\n",
      " - conda-forge\n",
      " - bioconda\n",
      " - defaults\n",
      "Platform: linux-64\n",
      "Collecting package metadata (repodata.json): done\n",
      "Solving environment: failed\n",
      "\n",
      "LibMambaUnsatisfiableError: Encountered problems while solving:\n",
      "  - package _openmp_mutex-5.1-1_gnu requires _libgcc_mutex 0.1 main, but none of the providers can be installed\n",
      "\n",
      "Could not solve for environment specs\n",
      "The following packages are incompatible\n",
      "├─ \u001b[32m_openmp_mutex ==5.1 *\u001b[0m is installable and it requires\n",
      "│  └─ \u001b[32m_libgcc_mutex ==0.1 main\u001b[0m, which can be installed;\n",
      "├─ \u001b[32micu ==73.1 *\u001b[0m is requested and can be installed;\n",
      "├─ \u001b[32mkrb5 ==1.20.1 *\u001b[0m is installable with the potential options\n",
      "│  ├─ \u001b[32mkrb5 1.20.1\u001b[0m, which can be installed;\n",
      "│  └─ \u001b[32mkrb5 1.20.1\u001b[0m would require\n",
      "│     └─ \u001b[32mlibgcc-ng >=12 *\u001b[0m with the potential options\n",
      "│        ├─ \u001b[31mlibgcc-ng [11.2.0|12.1.0|...|14.2.0]\u001b[0m would require\n",
      "│        │  ├─ \u001b[31m_libgcc_mutex ==0.1 conda_forge\u001b[0m, which conflicts with any installable versions previously reported;\n",
      "│        │  └─ \u001b[31mlibgcc [==12.4.0 h77fa898_1|==13.3.0 h77fa898_1|==14.1.0 h77fa898_1|==14.2.0 h77fa898_1]\u001b[0m, which requires\n",
      "│        │     └─ \u001b[31m_libgcc_mutex ==0.1 conda_forge\u001b[0m, which conflicts with any installable versions previously reported;\n",
      "│        ├─ \u001b[32mlibgcc-ng 12.4.0\u001b[0m, which can be installed;\n",
      "│        └─ \u001b[32mlibgcc-ng [13.3.0|14.2.0|15.1.0]\u001b[0m, which can be installed;\n",
      "├─ \u001b[32mlibcurl ==8.12.1 *\u001b[0m is installable with the potential options\n",
      "│  ├─ \u001b[32mlibcurl 8.12.1\u001b[0m would require\n",
      "│  │  └─ \u001b[32mlibssh2 >=1.11.1,<2.0a0 *\u001b[0m with the potential options\n",
      "│  │     ├─ \u001b[32mlibssh2 1.11.1\u001b[0m would require\n",
      "│  │     │  └─ \u001b[32mopenssl >=3.0.15,<4.0a0 *\u001b[0m with the potential options\n",
      "│  │     │     ├─ \u001b[32mopenssl [1.1.1p|1.1.1q|...|3.3.1]\u001b[0m would require\n",
      "│  │     │     │  └─ \u001b[32mlibgcc-ng >=12 *\u001b[0m with the potential options\n",
      "│  │     │     │     ├─ \u001b[31mlibgcc-ng [11.2.0|12.1.0|...|14.2.0]\u001b[0m, which cannot be installed (as previously explained);\n",
      "│  │     │     │     ├─ \u001b[32mlibgcc-ng 12.4.0\u001b[0m, which can be installed;\n",
      "│  │     │     │     └─ \u001b[32mlibgcc-ng [13.3.0|14.2.0|15.1.0]\u001b[0m, which can be installed;\n",
      "│  │     │     ├─ \u001b[32mopenssl [3.0.15|3.0.16]\u001b[0m, which can be installed;\n",
      "│  │     │     ├─ \u001b[32mopenssl [3.0.16|3.1.7|...|3.5.0]\u001b[0m would require\n",
      "│  │     │     │  └─ \u001b[32mlibgcc >=13 *\u001b[0m with the potential options\n",
      "│  │     │     │     ├─ \u001b[31mlibgcc [12.4.0|13.3.0|14.1.0|14.2.0]\u001b[0m, which cannot be installed (as previously explained);\n",
      "│  │     │     │     ├─ \u001b[32mlibgcc 13.3.0\u001b[0m would require\n",
      "│  │     │     │     │  └─ \u001b[32mlibgcc-ng ==13.3.0 *_2\u001b[0m, which can be installed;\n",
      "│  │     │     │     ├─ \u001b[32mlibgcc 14.2.0\u001b[0m would require\n",
      "│  │     │     │     │  └─ \u001b[32mlibgcc-ng ==14.2.0 *_2\u001b[0m, which can be installed;\n",
      "│  │     │     │     └─ \u001b[32mlibgcc 15.1.0\u001b[0m would require\n",
      "│  │     │     │        └─ \u001b[32mlibgcc-ng ==15.1.0 *_2\u001b[0m, which can be installed;\n",
      "│  │     │     └─ \u001b[32mopenssl 3.3.1\u001b[0m would require\n",
      "│  │     │        └─ \u001b[32mlibgcc-ng >=13 *\u001b[0m with the potential options\n",
      "│  │     │           ├─ \u001b[31mlibgcc-ng [11.2.0|12.1.0|...|14.2.0]\u001b[0m, which cannot be installed (as previously explained);\n",
      "│  │     │           └─ \u001b[32mlibgcc-ng [13.3.0|14.2.0|15.1.0]\u001b[0m, which can be installed;\n",
      "│  │     └─ \u001b[32mlibssh2 1.11.1\u001b[0m would require\n",
      "│  │        └─ \u001b[32mlibgcc >=13 *\u001b[0m with the potential options\n",
      "│  │           ├─ \u001b[31mlibgcc [12.4.0|13.3.0|14.1.0|14.2.0]\u001b[0m, which cannot be installed (as previously explained);\n",
      "│  │           ├─ \u001b[32mlibgcc 13.3.0\u001b[0m, which can be installed (as previously explained);\n",
      "│  │           ├─ \u001b[32mlibgcc 14.2.0\u001b[0m, which can be installed (as previously explained);\n",
      "│  │           └─ \u001b[32mlibgcc 15.1.0\u001b[0m, which can be installed (as previously explained);\n",
      "│  ├─ \u001b[32mlibcurl 8.12.1\u001b[0m would require\n",
      "│  │  └─ \u001b[32mlibnghttp2 >=1.64.0,<2.0a0 *\u001b[0m, which can be installed;\n",
      "│  └─ \u001b[32mlibcurl 8.12.1\u001b[0m, which can be installed;\n",
      "├─ \u001b[31mlibgcc-ng ==11.2.0 *\u001b[0m is not installable because there are no viable options\n",
      "│  ├─ \u001b[31mlibgcc-ng [11.2.0|12.1.0|...|14.2.0]\u001b[0m, which cannot be installed (as previously explained);\n",
      "│  └─ \u001b[31mlibgcc-ng 11.2.0\u001b[0m conflicts with any installable versions previously reported;\n",
      "├─ \u001b[31mlibnghttp2 ==1.57.0 *\u001b[0m is not installable because it conflicts with any installable versions previously reported;\n",
      "├─ \u001b[32mlibsolv ==0.7.30 *\u001b[0m is installable with the potential options\n",
      "│  ├─ \u001b[32mlibsolv 0.7.30\u001b[0m would require\n",
      "│  │  ├─ \u001b[32mpcre2 >=10.42,<10.43.0a0 *\u001b[0m with the potential options\n",
      "│  │  │  ├─ \u001b[32mpcre2 10.42\u001b[0m would require\n",
      "│  │  │  │  └─ \u001b[32mzlib >=1.2.13,<1.3.0a0 *\u001b[0m with the potential options\n",
      "│  │  │  │     ├─ \u001b[32mzlib 1.2.13\u001b[0m, which can be installed;\n",
      "│  │  │  │     └─ \u001b[32mzlib 1.2.13\u001b[0m would require\n",
      "│  │  │  │        └─ \u001b[32mlibgcc-ng >=12 *\u001b[0m with the potential options\n",
      "│  │  │  │           ├─ \u001b[31mlibgcc-ng [11.2.0|12.1.0|...|14.2.0]\u001b[0m, which cannot be installed (as previously explained);\n",
      "│  │  │  │           ├─ \u001b[32mlibgcc-ng 12.4.0\u001b[0m, which can be installed;\n",
      "│  │  │  │           └─ \u001b[32mlibgcc-ng [13.3.0|14.2.0|15.1.0]\u001b[0m, which can be installed;\n",
      "│  │  │  └─ \u001b[32mpcre2 10.42\u001b[0m would require\n",
      "│  │  │     └─ \u001b[32mlibgcc-ng >=12 *\u001b[0m with the potential options\n",
      "│  │  │        ├─ \u001b[31mlibgcc-ng [11.2.0|12.1.0|...|14.2.0]\u001b[0m, which cannot be installed (as previously explained);\n",
      "│  │  │        ├─ \u001b[32mlibgcc-ng 12.4.0\u001b[0m, which can be installed;\n",
      "│  │  │        └─ \u001b[32mlibgcc-ng [13.3.0|14.2.0|15.1.0]\u001b[0m, which can be installed;\n",
      "│  │  └─ \u001b[32mzlib >=1.2.13,<1.3.0a0 *\u001b[0m with the potential options\n",
      "│  │     ├─ \u001b[32mzlib 1.2.13\u001b[0m, which can be installed;\n",
      "│  │     └─ \u001b[32mzlib 1.2.13\u001b[0m, which can be installed (as previously explained);\n",
      "│  └─ \u001b[32mlibsolv 0.7.30\u001b[0m would require\n",
      "│     └─ \u001b[32mlibgcc-ng >=12 *\u001b[0m with the potential options\n",
      "│        ├─ \u001b[31mlibgcc-ng [11.2.0|12.1.0|...|14.2.0]\u001b[0m, which cannot be installed (as previously explained);\n",
      "│        ├─ \u001b[32mlibgcc-ng 12.4.0\u001b[0m, which can be installed;\n",
      "│        └─ \u001b[32mlibgcc-ng [13.3.0|14.2.0|15.1.0]\u001b[0m, which can be installed;\n",
      "├─ \u001b[32mlibssh2 ==1.11.1 *\u001b[0m, which can be installed (as previously explained);\n",
      "├─ \u001b[32mlibxml2 ==2.13.8 *\u001b[0m is installable with the potential options\n",
      "│  ├─ \u001b[32mlibxml2 2.13.8\u001b[0m would require\n",
      "│  │  ├─ \u001b[32mxz >=5.6.4,<6.0a0 *\u001b[0m with the potential options\n",
      "│  │  │  ├─ \u001b[32mxz 5.6.4\u001b[0m, which can be installed;\n",
      "│  │  │  └─ \u001b[32mxz [5.6.4|5.8.1]\u001b[0m would require\n",
      "│  │  │     └─ \u001b[32mlibgcc >=13 *\u001b[0m with the potential options\n",
      "│  │  │        ├─ \u001b[31mlibgcc [12.4.0|13.3.0|14.1.0|14.2.0]\u001b[0m, which cannot be installed (as previously explained);\n",
      "│  │  │        ├─ \u001b[32mlibgcc 13.3.0\u001b[0m, which can be installed (as previously explained);\n",
      "│  │  │        ├─ \u001b[32mlibgcc 14.2.0\u001b[0m, which can be installed (as previously explained);\n",
      "│  │  │        └─ \u001b[32mlibgcc 15.1.0\u001b[0m, which can be installed (as previously explained);\n",
      "│  │  └─ \u001b[32mzlib >=1.2.13,<1.3.0a0 *\u001b[0m with the potential options\n",
      "│  │     ├─ \u001b[32mzlib 1.2.13\u001b[0m, which can be installed;\n",
      "│  │     └─ \u001b[32mzlib 1.2.13\u001b[0m, which can be installed (as previously explained);\n",
      "│  ├─ \u001b[31mlibxml2 2.13.8\u001b[0m would require\n",
      "│  │  └─ \u001b[31micu >=75.1,<76.0a0 *\u001b[0m, which conflicts with any installable versions previously reported;\n",
      "│  ├─ \u001b[31mlibxml2 2.13.8\u001b[0m would require\n",
      "│  │  └─ \u001b[31micu <0.0a0 *\u001b[0m, which conflicts with any installable versions previously reported;\n",
      "│  └─ \u001b[32mlibxml2 2.13.8\u001b[0m would require\n",
      "│     └─ \u001b[32mxz >=5.6.4,<6.0a0 *\u001b[0m with the potential options\n",
      "│        ├─ \u001b[32mxz 5.6.4\u001b[0m, which can be installed;\n",
      "│        └─ \u001b[32mxz [5.6.4|5.8.1]\u001b[0m, which can be installed (as previously explained);\n",
      "├─ \u001b[32mncurses ==6.4 *\u001b[0m is installable with the potential options\n",
      "│  ├─ \u001b[32mncurses 6.4\u001b[0m, which can be installed;\n",
      "│  └─ \u001b[32mncurses 6.4\u001b[0m would require\n",
      "│     └─ \u001b[32mlibgcc-ng >=12 *\u001b[0m with the potential options\n",
      "│        ├─ \u001b[31mlibgcc-ng [11.2.0|12.1.0|...|14.2.0]\u001b[0m, which cannot be installed (as previously explained);\n",
      "│        ├─ \u001b[32mlibgcc-ng 12.4.0\u001b[0m, which can be installed;\n",
      "│        └─ \u001b[32mlibgcc-ng [13.3.0|14.2.0|15.1.0]\u001b[0m, which can be installed;\n",
      "├─ \u001b[32mpcre2 ==10.42 *\u001b[0m, which can be installed (as previously explained);\n",
      "└─ \u001b[32msamtools =* *\u001b[0m is installable with the potential options\n",
      "   ├─ \u001b[31msamtools [0.1.12|0.1.13|...|1.8]\u001b[0m would require\n",
      "   │  └─ \u001b[31mncurses [=5.9 *|==5.9 *|>=5.9,<5.10.0a0 *]\u001b[0m, which conflicts with any installable versions previously reported;\n",
      "   ├─ \u001b[32msamtools [0.1.16|0.1.17|...|1.5]\u001b[0m would require\n",
      "   │  └─ \u001b[32mopenssl >=1.1.0,<=1.1.1 *\u001b[0m with the potential options\n",
      "   │     ├─ \u001b[32mopenssl [1.1.1p|1.1.1q|...|3.3.1]\u001b[0m, which can be installed (as previously explained);\n",
      "   │     └─ \u001b[31mopenssl [1.1.1a|1.1.1b|...|1.1.1w]\u001b[0m conflicts with any installable versions previously reported;\n",
      "   ├─ \u001b[32msamtools [0.1.18|0.1.19|1.1]\u001b[0m would require\n",
      "   │  └─ \u001b[32mlibzlib >=1.2.11,<1.3.0a0 *\u001b[0m with the potential options\n",
      "   │     ├─ \u001b[32mlibzlib [1.2.12|1.2.13]\u001b[0m would require\n",
      "   │     │  └─ \u001b[32mlibgcc-ng >=12 *\u001b[0m with the potential options\n",
      "   │     │     ├─ \u001b[31mlibgcc-ng [11.2.0|12.1.0|...|14.2.0]\u001b[0m, which cannot be installed (as previously explained);\n",
      "   │     │     ├─ \u001b[32mlibgcc-ng 12.4.0\u001b[0m, which can be installed;\n",
      "   │     │     └─ \u001b[32mlibgcc-ng [13.3.0|14.2.0|15.1.0]\u001b[0m, which can be installed;\n",
      "   │     ├─ \u001b[31mlibzlib 1.2.11\u001b[0m would require\n",
      "   │     │  └─ \u001b[31mzlib ==1.2.11 *_1014\u001b[0m, which conflicts with any installable versions previously reported;\n",
      "   │     ├─ \u001b[31mlibzlib 1.2.11\u001b[0m would require\n",
      "   │     │  └─ \u001b[31mzlib ==1.2.11 *_1012\u001b[0m, which conflicts with any installable versions previously reported;\n",
      "   │     └─ \u001b[31mlibzlib 1.2.11\u001b[0m would require\n",
      "   │        └─ \u001b[31mzlib ==1.2.11 *_1013\u001b[0m, which conflicts with any installable versions previously reported;\n",
      "   ├─ \u001b[31msamtools [0.1.18|0.1.19|1.1]\u001b[0m would require\n",
      "   │  └─ \u001b[31mncurses >=6.2,<6.3.0a0 *\u001b[0m, which conflicts with any installable versions previously reported;\n",
      "   ├─ \u001b[32msamtools [0.1.18|0.1.19|...|1.6]\u001b[0m would require\n",
      "   │  └─ \u001b[32mlibgcc-ng >=12 *\u001b[0m with the potential options\n",
      "   │     ├─ \u001b[31mlibgcc-ng [11.2.0|12.1.0|...|14.2.0]\u001b[0m, which cannot be installed (as previously explained);\n",
      "   │     ├─ \u001b[32mlibgcc-ng 12.4.0\u001b[0m, which can be installed;\n",
      "   │     └─ \u001b[32mlibgcc-ng [13.3.0|14.2.0|15.1.0]\u001b[0m, which can be installed;\n",
      "   ├─ \u001b[32msamtools [0.1.18|0.1.19|...|1.6]\u001b[0m would require\n",
      "   │  └─ \u001b[32mlibgcc >=13 *\u001b[0m with the potential options\n",
      "   │     ├─ \u001b[31mlibgcc [12.4.0|13.3.0|14.1.0|14.2.0]\u001b[0m, which cannot be installed (as previously explained);\n",
      "   │     ├─ \u001b[32mlibgcc 13.3.0\u001b[0m, which can be installed (as previously explained);\n",
      "   │     ├─ \u001b[32mlibgcc 14.2.0\u001b[0m, which can be installed (as previously explained);\n",
      "   │     └─ \u001b[32mlibgcc 15.1.0\u001b[0m, which can be installed (as previously explained);\n",
      "   ├─ \u001b[31msamtools [0.1.19|1.1]\u001b[0m would require\n",
      "   │  └─ \u001b[31mncurses >=6.1,<6.2.0a0 *\u001b[0m, which conflicts with any installable versions previously reported;\n",
      "   ├─ \u001b[32msamtools 1.10\u001b[0m would require\n",
      "   │  └─ \u001b[32mhtslib >=1.10.2,<1.22.0a0 *\u001b[0m with the potential options\n",
      "   │     ├─ \u001b[31mhtslib [1.10|1.10.1|1.10.2]\u001b[0m would require\n",
      "   │     │  └─ \u001b[31mlibcurl >=7.64.1,<8.0a0 *\u001b[0m but there are no viable options\n",
      "   │     │     ├─ \u001b[31mlibcurl 7.86.0\u001b[0m conflicts with any installable versions previously reported;\n",
      "   │     │     ├─ \u001b[31mlibcurl 7.86.0\u001b[0m conflicts with any installable versions previously reported;\n",
      "   │     │     ├─ \u001b[31mlibcurl 7.87.0\u001b[0m conflicts with any installable versions previously reported;\n",
      "   │     │     ├─ \u001b[31mlibcurl 7.87.0\u001b[0m conflicts with any installable versions previously reported;\n",
      "   │     │     ├─ \u001b[31mlibcurl 7.88.0\u001b[0m conflicts with any installable versions previously reported;\n",
      "   │     │     ├─ \u001b[31mlibcurl 7.88.1\u001b[0m conflicts with any installable versions previously reported;\n",
      "   │     │     ├─ \u001b[31mlibcurl 7.88.1\u001b[0m conflicts with any installable versions previously reported;\n",
      "   │     │     ├─ \u001b[31mlibcurl [7.83.0|7.83.1|7.85.0|7.86.0]\u001b[0m would require\n",
      "   │     │     │  └─ \u001b[31mkrb5 >=1.19.3,<1.20.0a0 *\u001b[0m, which conflicts with any installable versions previously reported;\n",
      "   │     │     ├─ \u001b[31mlibcurl [7.78.0|7.79.1|...|7.87.0]\u001b[0m would require\n",
      "   │     │     │  └─ \u001b[31mkrb5 >=1.19.2,<1.20.0a0 *\u001b[0m, which conflicts with any installable versions previously reported;\n",
      "   │     │     ├─ \u001b[31mlibcurl 7.88.1\u001b[0m conflicts with any installable versions previously reported;\n",
      "   │     │     ├─ \u001b[31mlibcurl 7.88.1\u001b[0m conflicts with any installable versions previously reported;\n",
      "   │     │     ├─ \u001b[31mlibcurl 7.88.1\u001b[0m would require\n",
      "   │     │     │  └─ \u001b[31mkrb5 >=1.19.4,<1.20.0a0 *\u001b[0m, which conflicts with any installable versions previously reported;\n",
      "   │     │     ├─ \u001b[31mlibcurl 7.88.1\u001b[0m conflicts with any installable versions previously reported;\n",
      "   │     │     ├─ \u001b[31mlibcurl [7.71.1|7.76.1|7.77.0|7.78.0]\u001b[0m would require\n",
      "   │     │     │  └─ \u001b[31mkrb5 >=1.19.1,<1.20.0a0 *\u001b[0m, which conflicts with any installable versions previously reported;\n",
      "   │     │     ├─ \u001b[31mlibcurl [7.64.1|7.68.0|...|7.76.1]\u001b[0m would require\n",
      "   │     │     │  └─ \u001b[31mkrb5 >=1.17.1,<1.18.0a0 *\u001b[0m, which conflicts with any installable versions previously reported;\n",
      "   │     │     ├─ \u001b[31mlibcurl [7.71.0|7.71.1]\u001b[0m would require\n",
      "   │     │     │  └─ \u001b[31mkrb5 >=1.18.2,<1.19.0a0 *\u001b[0m, which conflicts with any installable versions previously reported;\n",
      "   │     │     ├─ \u001b[31mlibcurl [7.64.1|7.65.2|7.65.3]\u001b[0m would require\n",
      "   │     │     │  └─ \u001b[31mkrb5 >=1.16.3,<1.17.0a0 *\u001b[0m, which conflicts with any installable versions previously reported;\n",
      "   │     │     ├─ \u001b[31mlibcurl 7.68.0\u001b[0m would require\n",
      "   │     │     │  └─ \u001b[31mkrb5 >=1.16.4,<1.17.0a0 *\u001b[0m, which conflicts with any installable versions previously reported;\n",
      "   │     │     └─ \u001b[31mlibcurl [7.64.1|7.65.2|7.65.3|7.67.0]\u001b[0m would require\n",
      "   │     │        └─ \u001b[31mkrb5 >=1.16.1,<1.17.0a0 *\u001b[0m, which conflicts with any installable versions previously reported;\n",
      "   │     ├─ \u001b[31mhtslib [1.10.2|1.11]\u001b[0m would require\n",
      "   │     │  └─ \u001b[31mlibcurl >=7.71.1,<8.0a0 *\u001b[0m but there are no viable options\n",
      "   │     │     ├─ \u001b[31mlibcurl 7.86.0\u001b[0m conflicts with any installable versions previously reported;\n",
      "   │     │     ├─ \u001b[31mlibcurl 7.86.0\u001b[0m conflicts with any installable versions previously reported;\n",
      "   │     │     ├─ \u001b[31mlibcurl 7.87.0\u001b[0m conflicts with any installable versions previously reported;\n",
      "   │     │     ├─ \u001b[31mlibcurl 7.87.0\u001b[0m conflicts with any installable versions previously reported;\n",
      "   │     │     ├─ \u001b[31mlibcurl 7.88.0\u001b[0m conflicts with any installable versions previously reported;\n",
      "   │     │     ├─ \u001b[31mlibcurl 7.88.1\u001b[0m conflicts with any installable versions previously reported;\n",
      "   │     │     ├─ \u001b[31mlibcurl 7.88.1\u001b[0m conflicts with any installable versions previously reported;\n",
      "   │     │     ├─ \u001b[31mlibcurl [7.83.0|7.83.1|7.85.0|7.86.0]\u001b[0m, which cannot be installed (as previously explained);\n",
      "   │     │     ├─ \u001b[31mlibcurl [7.78.0|7.79.1|...|7.87.0]\u001b[0m, which cannot be installed (as previously explained);\n",
      "   │     │     ├─ \u001b[31mlibcurl 7.88.1\u001b[0m conflicts with any installable versions previously reported;\n",
      "   │     │     ├─ \u001b[31mlibcurl 7.88.1\u001b[0m conflicts with any installable versions previously reported;\n",
      "   │     │     ├─ \u001b[31mlibcurl 7.88.1\u001b[0m, which cannot be installed (as previously explained);\n",
      "   │     │     ├─ \u001b[31mlibcurl 7.88.1\u001b[0m conflicts with any installable versions previously reported;\n",
      "   │     │     ├─ \u001b[31mlibcurl [7.71.1|7.76.1|7.77.0|7.78.0]\u001b[0m, which cannot be installed (as previously explained);\n",
      "   │     │     ├─ \u001b[31mlibcurl [7.64.1|7.68.0|...|7.76.1]\u001b[0m, which cannot be installed (as previously explained);\n",
      "   │     │     └─ \u001b[31mlibcurl [7.71.0|7.71.1]\u001b[0m, which cannot be installed (as previously explained);\n",
      "   │     ├─ \u001b[31mhtslib 1.12\u001b[0m would require\n",
      "   │     │  └─ \u001b[31mlibcurl >=7.75.0,<8.0a0 *\u001b[0m but there are no viable options\n",
      "   │     │     ├─ \u001b[31mlibcurl 7.86.0\u001b[0m conflicts with any installable versions previously reported;\n",
      "   │     │     ├─ \u001b[31mlibcurl 7.86.0\u001b[0m conflicts with any installable versions previously reported;\n",
      "   │     │     ├─ \u001b[31mlibcurl 7.87.0\u001b[0m conflicts with any installable versions previously reported;\n",
      "   │     │     ├─ \u001b[31mlibcurl 7.87.0\u001b[0m conflicts with any installable versions previously reported;\n",
      "   │     │     ├─ \u001b[31mlibcurl 7.88.0\u001b[0m conflicts with any installable versions previously reported;\n",
      "   │     │     ├─ \u001b[31mlibcurl 7.88.1\u001b[0m conflicts with any installable versions previously reported;\n",
      "   │     │     ├─ \u001b[31mlibcurl 7.88.1\u001b[0m conflicts with any installable versions previously reported;\n",
      "   │     │     ├─ \u001b[31mlibcurl [7.83.0|7.83.1|7.85.0|7.86.0]\u001b[0m, which cannot be installed (as previously explained);\n",
      "   │     │     ├─ \u001b[31mlibcurl [7.78.0|7.79.1|...|7.87.0]\u001b[0m, which cannot be installed (as previously explained);\n",
      "   │     │     ├─ \u001b[31mlibcurl 7.88.1\u001b[0m conflicts with any installable versions previously reported;\n",
      "   │     │     ├─ \u001b[31mlibcurl 7.88.1\u001b[0m conflicts with any installable versions previously reported;\n",
      "   │     │     ├─ \u001b[31mlibcurl 7.88.1\u001b[0m, which cannot be installed (as previously explained);\n",
      "   │     │     ├─ \u001b[31mlibcurl 7.88.1\u001b[0m conflicts with any installable versions previously reported;\n",
      "   │     │     ├─ \u001b[31mlibcurl [7.71.1|7.76.1|7.77.0|7.78.0]\u001b[0m, which cannot be installed (as previously explained);\n",
      "   │     │     └─ \u001b[31mlibcurl [7.64.1|7.68.0|...|7.76.1]\u001b[0m, which cannot be installed (as previously explained);\n",
      "   │     ├─ \u001b[31mhtslib 1.13\u001b[0m would require\n",
      "   │     │  └─ \u001b[31mlibcurl >=7.77.0,<8.0a0 *\u001b[0m but there are no viable options\n",
      "   │     │     ├─ \u001b[31mlibcurl 7.86.0\u001b[0m conflicts with any installable versions previously reported;\n",
      "   │     │     ├─ \u001b[31mlibcurl 7.86.0\u001b[0m conflicts with any installable versions previously reported;\n",
      "   │     │     ├─ \u001b[31mlibcurl 7.87.0\u001b[0m conflicts with any installable versions previously reported;\n",
      "   │     │     ├─ \u001b[31mlibcurl 7.87.0\u001b[0m conflicts with any installable versions previously reported;\n",
      "   │     │     ├─ \u001b[31mlibcurl 7.88.0\u001b[0m conflicts with any installable versions previously reported;\n",
      "   │     │     ├─ \u001b[31mlibcurl 7.88.1\u001b[0m conflicts with any installable versions previously reported;\n",
      "   │     │     ├─ \u001b[31mlibcurl 7.88.1\u001b[0m conflicts with any installable versions previously reported;\n",
      "   │     │     ├─ \u001b[31mlibcurl [7.83.0|7.83.1|7.85.0|7.86.0]\u001b[0m, which cannot be installed (as previously explained);\n",
      "   │     │     ├─ \u001b[31mlibcurl [7.78.0|7.79.1|...|7.87.0]\u001b[0m, which cannot be installed (as previously explained);\n",
      "   │     │     ├─ \u001b[31mlibcurl 7.88.1\u001b[0m conflicts with any installable versions previously reported;\n",
      "   │     │     ├─ \u001b[31mlibcurl 7.88.1\u001b[0m conflicts with any installable versions previously reported;\n",
      "   │     │     ├─ \u001b[31mlibcurl 7.88.1\u001b[0m, which cannot be installed (as previously explained);\n",
      "   │     │     ├─ \u001b[31mlibcurl 7.88.1\u001b[0m conflicts with any installable versions previously reported;\n",
      "   │     │     └─ \u001b[31mlibcurl [7.71.1|7.76.1|7.77.0|7.78.0]\u001b[0m, which cannot be installed (as previously explained);\n",
      "   │     ├─ \u001b[31mhtslib [1.14|1.15|1.15.1|1.16]\u001b[0m would require\n",
      "   │     │  └─ \u001b[31mlibcurl [>=7.79.1,<8.0a0 *|>=7.81.0,<8.0a0 *|>=7.82.0,<8.0a0 *|>=7.83.1,<8.0a0 *]\u001b[0m but there are no viable options\n",
      "   │     │     ├─ \u001b[31mlibcurl 7.86.0\u001b[0m conflicts with any installable versions previously reported;\n",
      "   │     │     ├─ \u001b[31mlibcurl 7.86.0\u001b[0m conflicts with any installable versions previously reported;\n",
      "   │     │     ├─ \u001b[31mlibcurl 7.87.0\u001b[0m conflicts with any installable versions previously reported;\n",
      "   │     │     ├─ \u001b[31mlibcurl 7.87.0\u001b[0m conflicts with any installable versions previously reported;\n",
      "   │     │     ├─ \u001b[31mlibcurl 7.88.0\u001b[0m conflicts with any installable versions previously reported;\n",
      "   │     │     ├─ \u001b[31mlibcurl 7.88.1\u001b[0m conflicts with any installable versions previously reported;\n",
      "   │     │     ├─ \u001b[31mlibcurl 7.88.1\u001b[0m conflicts with any installable versions previously reported;\n",
      "   │     │     ├─ \u001b[31mlibcurl [7.83.0|7.83.1|7.85.0|7.86.0]\u001b[0m, which cannot be installed (as previously explained);\n",
      "   │     │     ├─ \u001b[31mlibcurl [7.78.0|7.79.1|...|7.87.0]\u001b[0m, which cannot be installed (as previously explained);\n",
      "   │     │     ├─ \u001b[31mlibcurl 7.88.1\u001b[0m conflicts with any installable versions previously reported;\n",
      "   │     │     ├─ \u001b[31mlibcurl 7.88.1\u001b[0m conflicts with any installable versions previously reported;\n",
      "   │     │     ├─ \u001b[31mlibcurl 7.88.1\u001b[0m, which cannot be installed (as previously explained);\n",
      "   │     │     └─ \u001b[31mlibcurl 7.88.1\u001b[0m conflicts with any installable versions previously reported;\n",
      "   │     ├─ \u001b[31mhtslib 1.17\u001b[0m would require\n",
      "   │     │  └─ \u001b[31mlibcurl >=7.87.0,<8.0a0 *\u001b[0m but there are no viable options\n",
      "   │     │     ├─ \u001b[31mlibcurl 7.87.0\u001b[0m conflicts with any installable versions previously reported;\n",
      "   │     │     ├─ \u001b[31mlibcurl 7.87.0\u001b[0m conflicts with any installable versions previously reported;\n",
      "   │     │     ├─ \u001b[31mlibcurl 7.88.0\u001b[0m conflicts with any installable versions previously reported;\n",
      "   │     │     ├─ \u001b[31mlibcurl 7.88.1\u001b[0m conflicts with any installable versions previously reported;\n",
      "   │     │     ├─ \u001b[31mlibcurl 7.88.1\u001b[0m conflicts with any installable versions previously reported;\n",
      "   │     │     ├─ \u001b[31mlibcurl [7.78.0|7.79.1|...|7.87.0]\u001b[0m, which cannot be installed (as previously explained);\n",
      "   │     │     ├─ \u001b[31mlibcurl 7.88.1\u001b[0m conflicts with any installable versions previously reported;\n",
      "   │     │     ├─ \u001b[31mlibcurl 7.88.1\u001b[0m conflicts with any installable versions previously reported;\n",
      "   │     │     ├─ \u001b[31mlibcurl 7.88.1\u001b[0m, which cannot be installed (as previously explained);\n",
      "   │     │     └─ \u001b[31mlibcurl 7.88.1\u001b[0m conflicts with any installable versions previously reported;\n",
      "   │     ├─ \u001b[32mhtslib [1.17|1.18|1.19|1.19.1|1.20]\u001b[0m would require\n",
      "   │     │  └─ \u001b[32mlibgcc-ng >=12 *\u001b[0m with the potential options\n",
      "   │     │     ├─ \u001b[31mlibgcc-ng [11.2.0|12.1.0|...|14.2.0]\u001b[0m, which cannot be installed (as previously explained);\n",
      "   │     │     ├─ \u001b[32mlibgcc-ng 12.4.0\u001b[0m, which can be installed;\n",
      "   │     │     └─ \u001b[32mlibgcc-ng [13.3.0|14.2.0|15.1.0]\u001b[0m, which can be installed;\n",
      "   │     ├─ \u001b[32mhtslib 1.21\u001b[0m would require\n",
      "   │     │  └─ \u001b[32mlibgcc >=13 *\u001b[0m with the potential options\n",
      "   │     │     ├─ \u001b[31mlibgcc [12.4.0|13.3.0|14.1.0|14.2.0]\u001b[0m, which cannot be installed (as previously explained);\n",
      "   │     │     ├─ \u001b[32mlibgcc 13.3.0\u001b[0m, which can be installed (as previously explained);\n",
      "   │     │     ├─ \u001b[32mlibgcc 14.2.0\u001b[0m, which can be installed (as previously explained);\n",
      "   │     │     └─ \u001b[32mlibgcc 15.1.0\u001b[0m, which can be installed (as previously explained);\n",
      "   │     └─ \u001b[32mhtslib 1.21\u001b[0m would require\n",
      "   │        └─ \u001b[32mlibgcc >=12 *\u001b[0m with the potential options\n",
      "   │           ├─ \u001b[31mlibgcc [12.4.0|13.3.0|14.1.0|14.2.0]\u001b[0m, which cannot be installed (as previously explained);\n",
      "   │           ├─ \u001b[32mlibgcc 12.4.0\u001b[0m would require\n",
      "   │           │  └─ \u001b[32mlibgcc-ng ==12.4.0 *_2\u001b[0m, which can be installed;\n",
      "   │           ├─ \u001b[32mlibgcc 13.3.0\u001b[0m, which can be installed (as previously explained);\n",
      "   │           ├─ \u001b[32mlibgcc 14.2.0\u001b[0m, which can be installed (as previously explained);\n",
      "   │           └─ \u001b[32mlibgcc 15.1.0\u001b[0m, which can be installed (as previously explained);\n",
      "   ├─ \u001b[32msamtools 1.10\u001b[0m would require\n",
      "   │  └─ \u001b[32mhtslib >=1.10,<1.22.0a0 *\u001b[0m with the potential options\n",
      "   │     ├─ \u001b[31mhtslib [1.10|1.10.1|1.10.2]\u001b[0m, which cannot be installed (as previously explained);\n",
      "   │     ├─ \u001b[31mhtslib [1.10.2|1.11]\u001b[0m, which cannot be installed (as previously explained);\n",
      "   │     ├─ \u001b[31mhtslib 1.12\u001b[0m, which cannot be installed (as previously explained);\n",
      "   │     ├─ \u001b[31mhtslib 1.13\u001b[0m, which cannot be installed (as previously explained);\n",
      "   │     ├─ \u001b[31mhtslib [1.14|1.15|1.15.1|1.16]\u001b[0m, which cannot be installed (as previously explained);\n",
      "   │     ├─ \u001b[31mhtslib 1.17\u001b[0m, which cannot be installed (as previously explained);\n",
      "   │     ├─ \u001b[32mhtslib [1.17|1.18|1.19|1.19.1|1.20]\u001b[0m, which can be installed (as previously explained);\n",
      "   │     ├─ \u001b[32mhtslib 1.21\u001b[0m, which can be installed (as previously explained);\n",
      "   │     ├─ \u001b[32mhtslib 1.21\u001b[0m, which can be installed (as previously explained);\n",
      "   │     └─ \u001b[31mhtslib [1.10|1.9]\u001b[0m would require\n",
      "   │        └─ \u001b[31mcurl [>=7.64.0,<8.0a0 *|>=7.64.1,<8.0a0 *]\u001b[0m but there are no viable options\n",
      "   │           ├─ \u001b[31mcurl 7.86.0\u001b[0m would require\n",
      "   │           │  └─ \u001b[31mlibcurl ==7.86.0 h6312ad2_2\u001b[0m, which conflicts with any installable versions previously reported;\n",
      "   │           ├─ \u001b[31mcurl 7.86.0\u001b[0m would require\n",
      "   │           │  └─ \u001b[31mlibcurl ==7.86.0 hdc1c0ab_2\u001b[0m, which conflicts with any installable versions previously reported;\n",
      "   │           ├─ \u001b[31mcurl 7.87.0\u001b[0m would require\n",
      "   │           │  └─ \u001b[31mlibcurl ==7.87.0 h6312ad2_0\u001b[0m, which conflicts with any installable versions previously reported;\n",
      "   │           ├─ \u001b[31mcurl 7.87.0\u001b[0m would require\n",
      "   │           │  └─ \u001b[31mlibcurl ==7.87.0 hdc1c0ab_0\u001b[0m, which conflicts with any installable versions previously reported;\n",
      "   │           ├─ \u001b[31mcurl 7.88.0\u001b[0m would require\n",
      "   │           │  └─ \u001b[31mlibcurl ==7.88.0 hdc1c0ab_0\u001b[0m, which conflicts with any installable versions previously reported;\n",
      "   │           ├─ \u001b[31mcurl 7.88.1\u001b[0m would require\n",
      "   │           │  └─ \u001b[31mlibcurl ==7.88.1 hdc1c0ab_0\u001b[0m, which conflicts with any installable versions previously reported;\n",
      "   │           ├─ \u001b[31mcurl 7.88.1\u001b[0m would require\n",
      "   │           │  └─ \u001b[31mlibcurl ==7.88.1 hdc1c0ab_1\u001b[0m, which conflicts with any installable versions previously reported;\n",
      "   │           ├─ \u001b[31mcurl [7.78.0|7.79.1|...|7.87.0]\u001b[0m would require\n",
      "   │           │  ├─ \u001b[31mkrb5 >=1.19.2,<1.20.0a0 *\u001b[0m, which conflicts with any installable versions previously reported;\n",
      "   │           │  └─ \u001b[31mlibcurl [==7.80.0 h0b77cf5_0|==7.82.0 h0b77cf5_0|...|==7.87.0 h91b91d3_0]\u001b[0m, which cannot be installed (as previously explained);\n",
      "   │           ├─ \u001b[31mcurl [7.83.0|7.83.1|7.85.0|7.86.0]\u001b[0m would require\n",
      "   │           │  └─ \u001b[31mkrb5 >=1.19.3,<1.20.0a0 *\u001b[0m, which conflicts with any installable versions previously reported;\n",
      "   │           ├─ \u001b[31mcurl 7.83.0\u001b[0m would require\n",
      "   │           │  └─ \u001b[31mlibcurl ==7.83.0 h0b77cf5_0\u001b[0m, which does not exist (perhaps a missing channel);\n",
      "   │           ├─ \u001b[31mcurl 7.88.1\u001b[0m would require\n",
      "   │           │  └─ \u001b[31mlibcurl ==7.88.1 h91b91d3_2\u001b[0m, which conflicts with any installable versions previously reported;\n",
      "   │           ├─ \u001b[31mcurl 7.88.1\u001b[0m would require\n",
      "   │           │  └─ \u001b[31mlibcurl ==7.88.1 h91b91d3_0\u001b[0m, which cannot be installed (as previously explained);\n",
      "   │           ├─ \u001b[31mcurl 7.88.1\u001b[0m would require\n",
      "   │           │  └─ \u001b[31mlibcurl ==7.88.1 h251f7ec_1\u001b[0m, which conflicts with any installable versions previously reported;\n",
      "   │           ├─ \u001b[31mcurl 7.88.1\u001b[0m would require\n",
      "   │           │  └─ \u001b[31mlibcurl ==7.88.1 h251f7ec_2\u001b[0m, which conflicts with any installable versions previously reported;\n",
      "   │           ├─ \u001b[31mcurl [7.64.0|7.64.1|...|7.76.1]\u001b[0m would require\n",
      "   │           │  └─ \u001b[31mkrb5 >=1.17.1,<1.18.0a0 *\u001b[0m, which conflicts with any installable versions previously reported;\n",
      "   │           ├─ \u001b[31mcurl [7.71.1|7.76.1|7.77.0|7.78.0]\u001b[0m would require\n",
      "   │           │  ├─ \u001b[31mkrb5 >=1.19.1,<1.20.0a0 *\u001b[0m, which conflicts with any installable versions previously reported;\n",
      "   │           │  └─ \u001b[31mlibcurl ==7.71.1 h303737a_2\u001b[0m, which cannot be installed (as previously explained);\n",
      "   │           ├─ \u001b[31mcurl 7.79.0\u001b[0m would require\n",
      "   │           │  └─ \u001b[31mlibcurl ==7.79.0 h2574ce0_0\u001b[0m, which does not exist (perhaps a missing channel);\n",
      "   │           ├─ \u001b[31mcurl [7.71.0|7.71.1]\u001b[0m would require\n",
      "   │           │  └─ \u001b[31mkrb5 >=1.18.2,<1.19.0a0 *\u001b[0m, which conflicts with any installable versions previously reported;\n",
      "   │           ├─ \u001b[31mcurl [7.64.0|7.64.1|7.65.2|7.65.3]\u001b[0m would require\n",
      "   │           │  └─ \u001b[31mkrb5 >=1.16.3,<1.17.0a0 *\u001b[0m, which conflicts with any installable versions previously reported;\n",
      "   │           ├─ \u001b[31mcurl 7.68.0\u001b[0m would require\n",
      "   │           │  └─ \u001b[31mkrb5 >=1.16.4,<1.17.0a0 *\u001b[0m, which conflicts with any installable versions previously reported;\n",
      "   │           └─ \u001b[31mcurl [7.61.1|7.62.0|...|7.67.0]\u001b[0m would require\n",
      "   │              └─ \u001b[31mkrb5 >=1.16.1,<1.17.0a0 *\u001b[0m, which conflicts with any installable versions previously reported;\n",
      "   ├─ \u001b[32msamtools 1.11\u001b[0m would require\n",
      "   │  └─ \u001b[32mhtslib >=1.11,<1.22.0a0 *\u001b[0m with the potential options\n",
      "   │     ├─ \u001b[31mhtslib [1.10.2|1.11]\u001b[0m, which cannot be installed (as previously explained);\n",
      "   │     ├─ \u001b[31mhtslib 1.12\u001b[0m, which cannot be installed (as previously explained);\n",
      "   │     ├─ \u001b[31mhtslib 1.13\u001b[0m, which cannot be installed (as previously explained);\n",
      "   │     ├─ \u001b[31mhtslib [1.14|1.15|1.15.1|1.16]\u001b[0m, which cannot be installed (as previously explained);\n",
      "   │     ├─ \u001b[31mhtslib 1.17\u001b[0m, which cannot be installed (as previously explained);\n",
      "   │     ├─ \u001b[32mhtslib [1.17|1.18|1.19|1.19.1|1.20]\u001b[0m, which can be installed (as previously explained);\n",
      "   │     ├─ \u001b[32mhtslib 1.21\u001b[0m, which can be installed (as previously explained);\n",
      "   │     └─ \u001b[32mhtslib 1.21\u001b[0m, which can be installed (as previously explained);\n",
      "   ├─ \u001b[32msamtools 1.12\u001b[0m would require\n",
      "   │  └─ \u001b[32mhtslib >=1.12,<1.22.0a0 *\u001b[0m with the potential options\n",
      "   │     ├─ \u001b[31mhtslib 1.12\u001b[0m, which cannot be installed (as previously explained);\n",
      "   │     ├─ \u001b[31mhtslib 1.13\u001b[0m, which cannot be installed (as previously explained);\n",
      "   │     ├─ \u001b[31mhtslib [1.14|1.15|1.15.1|1.16]\u001b[0m, which cannot be installed (as previously explained);\n",
      "   │     ├─ \u001b[31mhtslib 1.17\u001b[0m, which cannot be installed (as previously explained);\n",
      "   │     ├─ \u001b[32mhtslib [1.17|1.18|1.19|1.19.1|1.20]\u001b[0m, which can be installed (as previously explained);\n",
      "   │     ├─ \u001b[32mhtslib 1.21\u001b[0m, which can be installed (as previously explained);\n",
      "   │     └─ \u001b[32mhtslib 1.21\u001b[0m, which can be installed (as previously explained);\n",
      "   ├─ \u001b[32msamtools 1.13\u001b[0m would require\n",
      "   │  └─ \u001b[32mhtslib >=1.13,<1.22.0a0 *\u001b[0m with the potential options\n",
      "   │     ├─ \u001b[31mhtslib 1.13\u001b[0m, which cannot be installed (as previously explained);\n",
      "   │     ├─ \u001b[31mhtslib [1.14|1.15|1.15.1|1.16]\u001b[0m, which cannot be installed (as previously explained);\n",
      "   │     ├─ \u001b[31mhtslib 1.17\u001b[0m, which cannot be installed (as previously explained);\n",
      "   │     ├─ \u001b[32mhtslib [1.17|1.18|1.19|1.19.1|1.20]\u001b[0m, which can be installed (as previously explained);\n",
      "   │     ├─ \u001b[32mhtslib 1.21\u001b[0m, which can be installed (as previously explained);\n",
      "   │     └─ \u001b[32mhtslib 1.21\u001b[0m, which can be installed (as previously explained);\n",
      "   ├─ \u001b[32msamtools [1.14|1.15|1.15.1]\u001b[0m would require\n",
      "   │  └─ \u001b[32mhtslib [>=1.14,<1.22.0a0 *|>=1.15,<1.22.0a0 *]\u001b[0m with the potential options\n",
      "   │     ├─ \u001b[31mhtslib [1.14|1.15|1.15.1|1.16]\u001b[0m, which cannot be installed (as previously explained);\n",
      "   │     ├─ \u001b[31mhtslib 1.17\u001b[0m, which cannot be installed (as previously explained);\n",
      "   │     ├─ \u001b[32mhtslib [1.17|1.18|1.19|1.19.1|1.20]\u001b[0m, which can be installed (as previously explained);\n",
      "   │     ├─ \u001b[32mhtslib 1.21\u001b[0m, which can be installed (as previously explained);\n",
      "   │     └─ \u001b[32mhtslib 1.21\u001b[0m, which can be installed (as previously explained);\n",
      "   ├─ \u001b[32msamtools 1.21\u001b[0m would require\n",
      "   │  └─ \u001b[32mlibgcc >=12 *\u001b[0m with the potential options\n",
      "   │     ├─ \u001b[31mlibgcc [12.4.0|13.3.0|14.1.0|14.2.0]\u001b[0m, which cannot be installed (as previously explained);\n",
      "   │     ├─ \u001b[32mlibgcc 12.4.0\u001b[0m, which can be installed (as previously explained);\n",
      "   │     ├─ \u001b[32mlibgcc 13.3.0\u001b[0m, which can be installed (as previously explained);\n",
      "   │     ├─ \u001b[32mlibgcc 14.2.0\u001b[0m, which can be installed (as previously explained);\n",
      "   │     └─ \u001b[32mlibgcc 15.1.0\u001b[0m, which can be installed (as previously explained);\n",
      "   ├─ \u001b[31msamtools [1.3|1.3.1|1.6|1.9]\u001b[0m would require\n",
      "   │  └─ \u001b[31mcurl [>=7.64.0,<8.0a0 *|>=7.64.1,<8.0a0 *]\u001b[0m, which cannot be installed (as previously explained);\n",
      "   ├─ \u001b[31msamtools [1.3|1.3.1|1.6]\u001b[0m would require\n",
      "   │  └─ \u001b[31mcurl >=7.75.0,<8.0a0 *\u001b[0m, which cannot be installed (as previously explained);\n",
      "   ├─ \u001b[31msamtools [1.3|1.3.1|1.6]\u001b[0m would require\n",
      "   │  └─ \u001b[31mcurl >=7.81.0,<8.0a0 *\u001b[0m, which cannot be installed (as previously explained);\n",
      "   ├─ \u001b[31msamtools [1.3|1.3.1|1.6]\u001b[0m would require\n",
      "   │  └─ \u001b[31mcurl >=7.71.1,<8.0a0 *\u001b[0m, which cannot be installed (as previously explained);\n",
      "   ├─ \u001b[31msamtools [1.5|1.6]\u001b[0m would require\n",
      "   │  └─ \u001b[31mzlib [=1.2.8 *|==1.2.8 *]\u001b[0m, which conflicts with any installable versions previously reported;\n",
      "   ├─ \u001b[31msamtools [1.6|1.8|1.9]\u001b[0m would require\n",
      "   │  ├─ \u001b[31mcurl >=7.59.0,<8.0a0 *\u001b[0m but there are no viable options\n",
      "   │  │  ├─ \u001b[31mcurl 7.86.0\u001b[0m, which cannot be installed (as previously explained);\n",
      "   │  │  ├─ \u001b[31mcurl 7.86.0\u001b[0m, which cannot be installed (as previously explained);\n",
      "   │  │  ├─ \u001b[31mcurl 7.87.0\u001b[0m, which cannot be installed (as previously explained);\n",
      "   │  │  ├─ \u001b[31mcurl 7.87.0\u001b[0m, which cannot be installed (as previously explained);\n",
      "   │  │  ├─ \u001b[31mcurl 7.88.0\u001b[0m, which cannot be installed (as previously explained);\n",
      "   │  │  ├─ \u001b[31mcurl 7.88.1\u001b[0m, which cannot be installed (as previously explained);\n",
      "   │  │  ├─ \u001b[31mcurl 7.88.1\u001b[0m, which cannot be installed (as previously explained);\n",
      "   │  │  ├─ \u001b[31mcurl [7.78.0|7.79.1|...|7.87.0]\u001b[0m, which cannot be installed (as previously explained);\n",
      "   │  │  ├─ \u001b[31mcurl [7.83.0|7.83.1|7.85.0|7.86.0]\u001b[0m, which cannot be installed (as previously explained);\n",
      "   │  │  ├─ \u001b[31mcurl 7.83.0\u001b[0m, which cannot be installed (as previously explained);\n",
      "   │  │  ├─ \u001b[31mcurl 7.88.1\u001b[0m, which cannot be installed (as previously explained);\n",
      "   │  │  ├─ \u001b[31mcurl 7.88.1\u001b[0m, which cannot be installed (as previously explained);\n",
      "   │  │  ├─ \u001b[31mcurl 7.88.1\u001b[0m, which cannot be installed (as previously explained);\n",
      "   │  │  ├─ \u001b[31mcurl 7.88.1\u001b[0m, which cannot be installed (as previously explained);\n",
      "   │  │  ├─ \u001b[31mcurl [7.64.0|7.64.1|...|7.76.1]\u001b[0m, which cannot be installed (as previously explained);\n",
      "   │  │  ├─ \u001b[31mcurl [7.71.1|7.76.1|7.77.0|7.78.0]\u001b[0m, which cannot be installed (as previously explained);\n",
      "   │  │  ├─ \u001b[31mcurl 7.79.0\u001b[0m, which cannot be installed (as previously explained);\n",
      "   │  │  ├─ \u001b[31mcurl [7.71.0|7.71.1]\u001b[0m, which cannot be installed (as previously explained);\n",
      "   │  │  ├─ \u001b[31mcurl [7.64.0|7.64.1|7.65.2|7.65.3]\u001b[0m, which cannot be installed (as previously explained);\n",
      "   │  │  ├─ \u001b[31mcurl 7.68.0\u001b[0m, which cannot be installed (as previously explained);\n",
      "   │  │  ├─ \u001b[31mcurl [7.61.1|7.62.0|...|7.67.0]\u001b[0m, which cannot be installed (as previously explained);\n",
      "   │  │  ├─ \u001b[31mcurl [7.59.0|7.60.0]\u001b[0m would require\n",
      "   │  │  │  └─ \u001b[31mkrb5 =1.14 *\u001b[0m, which conflicts with any installable versions previously reported;\n",
      "   │  │  ├─ \u001b[31mcurl [7.59.0|7.61.0]\u001b[0m would require\n",
      "   │  │  │  └─ \u001b[31mkrb5 >=1.14.6,<1.15.0a0 *\u001b[0m, which conflicts with any installable versions previously reported;\n",
      "   │  │  ├─ \u001b[31mcurl 7.63.0\u001b[0m would require\n",
      "   │  │  │  └─ \u001b[31mkrb5 >=1.16.2,<1.17.0a0 *\u001b[0m, which conflicts with any installable versions previously reported;\n",
      "   │  │  ├─ \u001b[31mcurl 7.59.0\u001b[0m would require\n",
      "   │  │  │  └─ \u001b[31mlibcurl ==7.59.0 h1ad7b7a_0\u001b[0m, which conflicts with any installable versions previously reported;\n",
      "   │  │  ├─ \u001b[31mcurl 7.60.0\u001b[0m would require\n",
      "   │  │  │  └─ \u001b[31mlibcurl ==7.60.0 h1ad7b7a_0\u001b[0m, which conflicts with any installable versions previously reported;\n",
      "   │  │  ├─ \u001b[31mcurl 7.61.0\u001b[0m would require\n",
      "   │  │  │  └─ \u001b[31mlibcurl ==7.61.0 h1ad7b7a_0\u001b[0m, which conflicts with any installable versions previously reported;\n",
      "   │  │  ├─ \u001b[31mcurl 7.61.1\u001b[0m would require\n",
      "   │  │  │  └─ \u001b[31mlibcurl ==7.61.1 h20c2e04_0\u001b[0m, which conflicts with any installable versions previously reported;\n",
      "   │  │  └─ \u001b[31mcurl 7.62.0\u001b[0m would require\n",
      "   │  │     └─ \u001b[31mlibcurl ==7.62.0 h20c2e04_0\u001b[0m, which conflicts with any installable versions previously reported;\n",
      "   │  └─ \u001b[31mhtslib >=1.9,<1.10.0a0 *\u001b[0m but there are no viable options\n",
      "   │     ├─ \u001b[31mhtslib [1.10|1.9]\u001b[0m, which cannot be installed (as previously explained);\n",
      "   │     └─ \u001b[31mhtslib 1.9\u001b[0m would require\n",
      "   │        └─ \u001b[31mcurl >=7.59.0,<8.0a0 *\u001b[0m, which cannot be installed (as previously explained);\n",
      "   └─ \u001b[32msamtools 1.7\u001b[0m would require\n",
      "      └─ \u001b[32mxz =5.2 *\u001b[0m with the potential options\n",
      "         ├─ \u001b[31mxz [5.2.10|5.2.2|...|5.2.8]\u001b[0m conflicts with any installable versions previously reported;\n",
      "         └─ \u001b[32mxz 5.2.6\u001b[0m would require\n",
      "            └─ \u001b[32mlibgcc-ng >=12 *\u001b[0m with the potential options\n",
      "               ├─ \u001b[31mlibgcc-ng [11.2.0|12.1.0|...|14.2.0]\u001b[0m, which cannot be installed (as previously explained);\n",
      "               ├─ \u001b[32mlibgcc-ng 12.4.0\u001b[0m, which can be installed;\n",
      "               └─ \u001b[32mlibgcc-ng [13.3.0|14.2.0|15.1.0]\u001b[0m, which can be installed.\n",
      "\n"
     ]
    }
   ],
   "source": [
    "!conda install -y bedtools bioawk samtools"
   ]
  },
  {
   "cell_type": "markdown",
   "metadata": {
    "id": "Oe_54MZrEi4y"
   },
   "source": [
    "## Mission 2\n",
    "\n",
    "이번 미션에서는 start codon 주변에서 ribosome-protected fragment의 분포를 한 번 살펴보겠습니다. 보통은 RPF의 5'-end 분포가 start codon 앞 15nt 정도에서부터 본격적으로 많이 나오고, 거기서부터 CDS를 걸쳐서 3nt 주기로 올록볼록한 패턴이 나타납니다.\n",
    "\n",
    "이 그림을 제대로 그리려면 genome coordinate를 start codon을 기준으로 변환해서 작업해야 하지만, 이번 미션에서는 난이도를 적절히 내리기 위해서 start codon이 포함된 exon에 존재하는 5' end만 추려서 작업하도록 합시다. (여유가 좀 있어서 난이도를 적당히 올리고 싶은 분들은 negative strand를 포함할 수도 있고, start codon과 다른 exon에 있는 경우를 포함할 수도 있습니다. 또한 APPRIS 등을 기반으로 해서 transcript 중에 가장 )"
   ]
  },
  {
   "cell_type": "code",
   "execution_count": null,
   "metadata": {
    "id": "IANz6DmLUkA6"
   },
   "outputs": [],
   "source": [
    "%cd /content/drive/MyDrive/binfo1-work/"
   ]
  },
  {
   "cell_type": "markdown",
   "metadata": {
    "id": "68uh7WVkUjhr"
   },
   "source": [
    "우선 annotation에서 start codon이 포함된 exon만 추립니다. Gene 한 개에 isoform이 여러 개 있는 경우 모두 쓰면 read가 너무 부풀려질 수 있기 때문에 우선 transcript support level이 1인 것만 추려서 사용합니다. 여전히 TSL 1만 쓰더라도 부풀려질 가능성은 있기 때문에 제대로 하자면 APPRIS나 RNA-seq 데이터 기준으로 하나만 선정하는 것이 좋습니다만, 일단 여기서는 간단히..\n",
    "\n",
    "그리고, - strand가 들어가면 좀 계산이 복잡해지니까 또 간단하게 하기 위해서 + strand만 고릅니다. 이번엔 일단 무조건 간단하게 해 봅시다~"
   ]
  },
  {
   "cell_type": "code",
   "execution_count": 5,
   "metadata": {
    "id": "vvFgM8hJUzDx"
   },
   "outputs": [],
   "source": [
    "!grep 'start_codon .* + .*transcript_support_level \"1\"' binfo1-datapack1/gencode.gtf | \\\n",
    "sed -e 's/[^ ]*transcript_id \"\\([^\"]*\\)\".*$/\\1/g' > gencode-start.gtf\n",
    "!head gencode-start.gtf"
   ]
  },
  {
   "cell_type": "markdown",
   "metadata": {
    "id": "iWvIeTYOWsR6"
   },
   "source": [
    "start codon가 들어가 있는 exon들을 고르기 위해서 미리 + strand에 있는 exon를 추립니다.. start codon 쪽에서 TSL 기준으로 골랐기 때문에 여기서는 고르지 않아도 됩니다. 물론 좀 느려지기는 하지만..."
   ]
  },
  {
   "cell_type": "code",
   "execution_count": 6,
   "metadata": {
    "id": "yCqK2wyYWitn"
   },
   "outputs": [
    {
     "name": "stdout",
     "output_type": "stream",
     "text": [
      "chr1\tHAVANA\texon\t3143476\t3144545\t.\t+\t.\tENSMUST00000193812.2\n",
      "chr1\tENSEMBL\texon\t3172239\t3172348\t.\t+\t.\tENSMUST00000082908.3\n",
      "chr1\tHAVANA\texon\t3322980\t3323459\t.\t+\t.\tENSMUST00000192857.2\n",
      "chr1\tHAVANA\texon\t3536810\t3536910\t.\t+\t.\tENSMUST00000161581.2\n",
      "chr1\tHAVANA\texon\t3583628\t3583776\t.\t+\t.\tENSMUST00000161581.2\n",
      "chr1\tHAVANA\texon\t3602018\t3602943\t.\t+\t.\tENSMUST00000192183.2\n",
      "chr1\tHAVANA\texon\t3750378\t3752011\t.\t+\t.\tENSMUST00000193244.2\n",
      "chr1\tHAVANA\texon\t3822233\t3824583\t.\t+\t.\tENSMUST00000194454.2\n",
      "chr1\tHAVANA\texon\t4566774\t4569601\t.\t+\t.\tENSMUST00000193450.2\n",
      "chr1\tHAVANA\texon\t4567697\t4567877\t.\t+\t.\tENSMUST00000194935.2\n"
     ]
    }
   ],
   "source": [
    "# 아래 공백 중 일부는 \"탭(Tab)\" 문자입니다. 입력하기 힘들 때는 텍스트 편집기에서 입력해서 복사&붙여넣기 하면 됩니다.\n",
    "!grep '\texon\t.*\t+\t' binfo1-datapack1/gencode.gtf | \\\n",
    "sed -e 's/\t[^\t]*transcript_id \"\\([^\"]*\\)\".*$/\t\\1/g' > gencode-plusexon.gtf\n",
    "!head gencode-plusexon.gtf"
   ]
  },
  {
   "cell_type": "code",
   "execution_count": null,
   "metadata": {
    "id": "suULe5k6Yelf"
   },
   "outputs": [],
   "source": [
    "그 다음엔 exon 리스트와 start codon 리스트를 겹치고, transcript가 같은 것만 살려둡니다. 기왕 좀 다루기 쉽도록 출력은 bed로 하면서 좌표계를 바꿉니다. 결과는 bedtools에서 빠르게 다룰 수 있게 sort해 둡니다."
   ]
  },
  {
   "cell_type": "code",
   "execution_count": 4,
   "metadata": {},
   "outputs": [],
   "source": [
    "import os\n",
    "os.environ['PATH'] = '/home/hyeonji/miniconda/envs/bioenv/bin:' + os.environ['PATH']"
   ]
  },
  {
   "cell_type": "code",
   "execution_count": 5,
   "metadata": {},
   "outputs": [
    {
     "name": "stdout",
     "output_type": "stream",
     "text": [
      "/home/hyeonji/miniconda/envs/bioenv/bin/bedtools\n"
     ]
    }
   ],
   "source": [
    "!which bedtools"
   ]
  },
  {
   "cell_type": "code",
   "execution_count": 6,
   "metadata": {
    "id": "Zsv2_w5OXU9c"
   },
   "outputs": [],
   "source": [
    "# 아래 공백 중 일부는 \"탭(Tab)\" 문자입니다. 입력하기 힘들 때는 텍스트 편집기에서 입력해서 복사&붙여넣기 하면 됩니다.\n",
    "!bedtools intersect -a gencode-start.gtf -b gencode-plusexon.gtf -wa -wb | \\\n",
    " awk -F'\t' -v OFS='\t' '$9 == $18 { print $10, $13-1, $14, $18, $4-1, $16; }' | \\\n",
    " sort -k1,1 -k2,3n -k4,4 > gencode-exons-containing-startcodon.bed\n",
    "!head gencode-exons-containing-startcodon.bed; tail gencode-exons-containing-startcodon.bed"
   ]
  },
  {
   "cell_type": "markdown",
   "metadata": {
    "id": "KvPNCpbtaYnC"
   },
   "source": [
    "컬럼 4번에 transcript id, 5번에 start codon 위치를 넣었는데, start codon이 같은 것들이 여러개 눈에 띕니다. 아주 찝찝하지만, 우선 이번은 간단하게 할 것이기 때문에 눈을 질끈 감고 넘어가 봅시다.\n",
    "\n",
    "이제 alignment를 준비합니다. + strand alignment에서 read length가 짧은 것도 미리 필터링 합니다. RPF는 보통 25nt 이상이기 때문에 그 이하는 거의 확실히 rRNA, tRNA 등에서 오염된 것들입니다. SAM 파일 전체를 필터링해서 다시 인코딩하기 때문에 시간이 좀 걸립니다.\n",
    "\n",
    "오래걸리는 작업을 돌릴 떄에는 CPU 사용량, 디스크 사용량을 계속 관찰하는 것이 좋습니다. 직접 접속할 수 있는 컴퓨터에서는 `htop` 등의 명령을 쓰면 되고, Colab에서는 오른쪽 위의 메뉴에서 Resources를 띄우면 되는데, 여기서는 CPU 사용량은 보기 힘듭니다."
   ]
  },
  {
   "cell_type": "code",
   "execution_count": 10,
   "metadata": {
    "id": "ZZaOeHo1alCB"
   },
   "outputs": [],
   "source": [
    "!samtools view -H binfo1-datapack1/RPF-siLuc.bam > temp.sam\n",
    "!samtools view -F 20 binfo1-datapack1/RPF-siLuc.bam | bioawk -c sam '{ if (length($seq) >= 25) print $0; }' >> temp.sam\n",
    "!samtools view -b temp.sam -o filtered-RPF-siLuc.bam\n",
    "!rm temp.sam"
   ]
  },
  {
   "cell_type": "markdown",
   "metadata": {
    "id": "U1JDNb8ndTdk"
   },
   "source": [
    "큰 일을 했으니 용량을 한 번 봅니다."
   ]
  },
  {
   "cell_type": "code",
   "execution_count": 11,
   "metadata": {
    "id": "5OrnDxegFAip"
   },
   "outputs": [
    {
     "name": "stdout",
     "output_type": "stream",
     "text": [
      "-rw-r--r-- 1 hyeonji hyeonji 554373664 May 12 15:57 filtered-RPF-siLuc.bam\n"
     ]
    }
   ],
   "source": [
    "!ls -al *RPF-siLuc.bam"
   ]
  },
  {
   "cell_type": "markdown",
   "metadata": {
    "id": "pr9zpKFmdi2e"
   },
   "source": [
    "자 이제 read의 5' end 위치를 셉니다. bedtools의 `genomecov`를 쓰면 아주 편리합니다."
   ]
  },
  {
   "cell_type": "code",
   "execution_count": 12,
   "metadata": {
    "id": "IZjHau7zftoU"
   },
   "outputs": [
    {
     "name": "stdout",
     "output_type": "stream",
     "text": [
      "chr1\t3176534\t3176535\t1\n",
      "chr1\t3196256\t3196257\t1\n",
      "chr1\t3221526\t3221527\t1\n",
      "chr1\t3221542\t3221543\t2\n",
      "chr1\t3221545\t3221546\t3\n",
      "chr1\t3221546\t3221547\t2\n",
      "chr1\t3221548\t3221550\t1\n",
      "chr1\t3221571\t3221572\t1\n",
      "chr1\t3221897\t3221898\t1\n",
      "chr1\t3221994\t3221995\t1\n"
     ]
    }
   ],
   "source": [
    "!bedtools genomecov -ibam filtered-RPF-siLuc.bam -bg -5 > fivepcounts-RPF-siLuc.bed\n",
    "!head fivepcounts-RPF-siLuc.bed"
   ]
  },
  {
   "cell_type": "markdown",
   "metadata": {
    "id": "y_AHnHnZmYJu"
   },
   "source": [
    "그렇게 match 된 것들 중에 앞에서 찾은 start codon을 포함한 exon과 겹치는 것만 골라냅니다."
   ]
  },
  {
   "cell_type": "code",
   "execution_count": 13,
   "metadata": {
    "id": "k1cOiX2Hftlx"
   },
   "outputs": [],
   "source": [
    "!bedtools intersect -a fivepcounts-RPF-siLuc.bed -b gencode-exons-containing-startcodon.bed \\\n",
    " -wa -wb -nonamecheck > fivepcounts-filtered-RPF-siLuc.txt\n",
    "!head fivepcounts-filtered-RPF-siLuc.txt"
   ]
  },
  {
   "cell_type": "markdown",
   "metadata": {
    "id": "0OcjYZ9bnL_6"
   },
   "source": [
    "모든 준비가 끝났습니다. 이제 Figure S5A 도전해 보세요!\n",
    "\n",
    "* stop codon은 빼고 start codon 만입니다.\n",
    "* 논문에서는 처리가 어려운 부분까지 모두 포함됐고, read를 중첩해서 세지 않았기 때문에, 여기서 세는 것과는 수치는 다를 수 있습니다.\n",
    "* `pandas`로 한꺼번에 데이터를 모두 불러들이면 메모리가 부족할 수도 있습니다. 그런 경우에는 chunk를 쓰거나, 줄 단위로 처리해 보세요."
   ]
  },
  {
   "cell_type": "code",
   "execution_count": 14,
   "metadata": {
    "id": "aPPW73t4X3pp"
   },
   "outputs": [
    {
     "ename": "ModuleNotFoundError",
     "evalue": "No module named 'pandas'",
     "output_type": "error",
     "traceback": [
      "\u001b[31m---------------------------------------------------------------------------\u001b[39m",
      "\u001b[31mModuleNotFoundError\u001b[39m                       Traceback (most recent call last)",
      "\u001b[36mCell\u001b[39m\u001b[36m \u001b[39m\u001b[32mIn[14]\u001b[39m\u001b[32m, line 1\u001b[39m\n\u001b[32m----> \u001b[39m\u001b[32m1\u001b[39m \u001b[38;5;28;01mimport\u001b[39;00m\u001b[38;5;250m \u001b[39m\u001b[34;01mpandas\u001b[39;00m\u001b[38;5;250m \u001b[39m\u001b[38;5;28;01mas\u001b[39;00m\u001b[38;5;250m \u001b[39m\u001b[34;01mpd\u001b[39;00m\n\u001b[32m      3\u001b[39m cols = [\n\u001b[32m      4\u001b[39m     \u001b[33m'\u001b[39m\u001b[33mchr\u001b[39m\u001b[33m'\u001b[39m, \u001b[33m'\u001b[39m\u001b[33mstart\u001b[39m\u001b[33m'\u001b[39m, \u001b[33m'\u001b[39m\u001b[33mend\u001b[39m\u001b[33m'\u001b[39m, \u001b[33m'\u001b[39m\u001b[33mcount\u001b[39m\u001b[33m'\u001b[39m,     \u001b[38;5;66;03m# from 5' end read counts\u001b[39;00m\n\u001b[32m      5\u001b[39m     \u001b[33m'\u001b[39m\u001b[33mchr2\u001b[39m\u001b[33m'\u001b[39m, \u001b[33m'\u001b[39m\u001b[33mstart2\u001b[39m\u001b[33m'\u001b[39m, \u001b[33m'\u001b[39m\u001b[33mend2\u001b[39m\u001b[33m'\u001b[39m,           \u001b[38;5;66;03m# matched exon from BED\u001b[39;00m\n\u001b[32m      6\u001b[39m     \u001b[33m'\u001b[39m\u001b[33mtranscript\u001b[39m\u001b[33m'\u001b[39m, \u001b[33m'\u001b[39m\u001b[33mstart_codon_pos\u001b[39m\u001b[33m'\u001b[39m     \u001b[38;5;66;03m# transcript ID and start codon 위치\u001b[39;00m\n\u001b[32m      7\u001b[39m ]\n\u001b[32m      9\u001b[39m df = pd.read_csv(\u001b[33m'\u001b[39m\u001b[33mfivepcounts-filtered-RPF-siLuc.txt\u001b[39m\u001b[33m'\u001b[39m, sep=\u001b[33m'\u001b[39m\u001b[38;5;130;01m\\t\u001b[39;00m\u001b[33m'\u001b[39m, header=\u001b[38;5;28;01mNone\u001b[39;00m, names=cols)\n",
      "\u001b[31mModuleNotFoundError\u001b[39m: No module named 'pandas'"
     ]
    }
   ],
   "source": [
    "import pandas as pd\n",
    "\n",
    "cols = [\n",
    "    'chr', 'start', 'end', 'count',     # from 5' end read counts\n",
    "    'chr2', 'start2', 'end2',           # matched exon from BED\n",
    "    'transcript', 'start_codon_pos'     # transcript ID and start codon 위치\n",
    "]\n",
    "\n",
    "df = pd.read_csv('fivepcounts-filtered-RPF-siLuc.txt', sep='\\t', header=None, names=cols)\n"
   ]
  },
  {
   "cell_type": "code",
   "execution_count": null,
   "metadata": {},
   "outputs": [],
   "source": []
  }
 ],
 "metadata": {
  "colab": {
   "provenance": []
  },
  "kernelspec": {
   "display_name": "Python (bioenv)",
   "language": "python",
   "name": "bioenv"
  },
  "language_info": {
   "codemirror_mode": {
    "name": "ipython",
    "version": 3
   },
   "file_extension": ".py",
   "mimetype": "text/x-python",
   "name": "python",
   "nbconvert_exporter": "python",
   "pygments_lexer": "ipython3",
   "version": "3.13.3"
  }
 },
 "nbformat": 4,
 "nbformat_minor": 4
}
